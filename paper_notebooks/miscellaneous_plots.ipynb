{
 "cells": [
  {
   "cell_type": "markdown",
   "metadata": {},
   "source": [
    "# Miscellaneous figures and remarks for Clonesig\n",
    "The objective of this notebook is to summarize some minor figures (mostly supplementary data) for Clonesig."
   ]
  },
  {
   "cell_type": "code",
   "execution_count": 1,
   "metadata": {
    "ExecuteTime": {
     "end_time": "2020-05-18T10:33:30.913897Z",
     "start_time": "2020-05-18T10:33:19.635466Z"
    }
   },
   "outputs": [
    {
     "name": "stdout",
     "output_type": "stream",
     "text": [
      "running on server, otherwise please investigate\n",
      "running on server, otherwise please investigate\n"
     ]
    }
   ],
   "source": [
    "%matplotlib inline\n",
    "\n",
    "import matplotlib.pyplot as plt\n",
    "import seaborn as sns\n",
    "import numpy as np\n",
    "\n",
    "from clonesig.data_loader import MAFLoader, SimLoader, beta_binomial\n",
    "from clonesig.estimator import _get_projected\n",
    "from clonesig.estimator import *\n",
    "import time\n",
    "from sklearn.cluster import KMeans\n",
    "from sklearn import linear_model\n",
    "from pathlib import Path"
   ]
  },
  {
   "cell_type": "code",
   "execution_count": 2,
   "metadata": {
    "ExecuteTime": {
     "end_time": "2020-05-18T10:33:30.923365Z",
     "start_time": "2020-05-18T10:33:30.917556Z"
    }
   },
   "outputs": [],
   "source": [
    "os.chdir('..')\n",
    "output_path = '20200515_paper_figures/Miscellaneous'\n",
    "Path(output_path).mkdir(parents=True, exist_ok=True)"
   ]
  },
  {
   "cell_type": "code",
   "execution_count": 3,
   "metadata": {
    "ExecuteTime": {
     "end_time": "2020-05-18T10:33:30.939196Z",
     "start_time": "2020-05-18T10:33:30.926193Z"
    }
   },
   "outputs": [
    {
     "data": {
      "text/html": [
       "<script>\n",
       "code_show=true; \n",
       "function code_toggle() {\n",
       " if (code_show){\n",
       " $('div.input').hide();\n",
       " } else {\n",
       " $('div.input').show();\n",
       " }\n",
       " code_show = !code_show\n",
       "} \n",
       "$( document ).ready(code_toggle);\n",
       "</script>\n",
       "<form action=\"javascript:code_toggle()\"><input type=\"submit\" value=\"Click here to toggle on/off the raw code.\"></form>"
      ],
      "text/plain": [
       "<IPython.core.display.HTML object>"
      ]
     },
     "execution_count": 3,
     "metadata": {},
     "output_type": "execute_result"
    }
   ],
   "source": [
    "from IPython.display import HTML\n",
    "\n",
    "HTML('''<script>\n",
    "code_show=true; \n",
    "function code_toggle() {\n",
    " if (code_show){\n",
    " $('div.input').hide();\n",
    " } else {\n",
    " $('div.input').show();\n",
    " }\n",
    " code_show = !code_show\n",
    "} \n",
    "$( document ).ready(code_toggle);\n",
    "</script>\n",
    "<form action=\"javascript:code_toggle()\"><input type=\"submit\" value=\"Click here to toggle on/off the raw code.\"></form>''')"
   ]
  },
  {
   "cell_type": "markdown",
   "metadata": {},
   "source": [
    "## Illustration of failure of the BIC criterion for small number of mutations"
   ]
  },
  {
   "cell_type": "code",
   "execution_count": 4,
   "metadata": {
    "ExecuteTime": {
     "end_time": "2020-05-18T10:33:31.138057Z",
     "start_time": "2020-05-18T10:33:30.943562Z"
    }
   },
   "outputs": [
    {
     "name": "stderr",
     "output_type": "stream",
     "text": [
      "/Users/JudithAbecassis/my_python35/lib/python3.5/site-packages/ipykernel_launcher.py:6: FutureWarning: Method .as_matrix will be removed in a future version. Use .values instead.\n",
      "  \n"
     ]
    }
   ],
   "source": [
    "sig_file_path = \"external_data/signatures_probabilities.txt\"\n",
    "SIG = pd.read_csv(sig_file_path, sep='\\t', index_col=0)\n",
    "sig_cols = ['Signature {}'.format(i) for i in range(1, 31)]\n",
    "SIG = SIG.assign(sortkey=SIG.index + SIG.Trinucleotide)\n",
    "SIG = SIG.sort_values(by='sortkey')\n",
    "SIG_MATRIX = SIG[sig_cols].as_matrix().T\n",
    "M, K = SIG_MATRIX.shape\n",
    "NEW_SIG_MATRIX = SIG_MATRIX + 0.00001 * (SIG_MATRIX == 0)\n",
    "MU = NEW_SIG_MATRIX / NEW_SIG_MATRIX.sum(axis=1)[:, np.newaxis]"
   ]
  },
  {
   "cell_type": "code",
   "execution_count": 5,
   "metadata": {
    "ExecuteTime": {
     "end_time": "2020-05-18T10:33:31.194852Z",
     "start_time": "2020-05-18T10:33:31.142521Z"
    }
   },
   "outputs": [],
   "source": [
    "def fit_model_special(T, B, C_normal, C_tumor_tot, C_tumor_minor, D, purity,\n",
    "                      inputMU, nb_fits=1, seeds=None, max_nb_clones=6, extra=4,\n",
    "                      inputNU=None):\n",
    "    \"\"\"\n",
    "    possible metrics : F, loglikelihood, BIC, AIC, AICc, ICL_q, ICL_qn, SH.\n",
    "    \"\"\"\n",
    "    L = inputMU.shape[0]\n",
    "    if isinstance(seeds, Iterable):\n",
    "        if len(seeds) != nb_fits:\n",
    "            raise ValueError(\"Number of seeds is incompatible with number of required fits\")\n",
    "    if seeds is None:\n",
    "        seeds = list(range(nb_fits))\n",
    "    bic = np.zeros((nb_fits, max_nb_clones+extra))\n",
    "    loglikelihood = np.zeros((nb_fits, max_nb_clones+extra))\n",
    "    aic = np.zeros((nb_fits, max_nb_clones+extra))\n",
    "    aicc = np.zeros((nb_fits, max_nb_clones+extra))\n",
    "    icl_q = np.zeros((nb_fits, max_nb_clones+extra))\n",
    "    icl_qn = np.zeros((nb_fits, max_nb_clones+extra))\n",
    "    for i, s in enumerate(seeds):\n",
    "        np.random.seed(s)\n",
    "        for j, nb_clones in enumerate(range(1, max_nb_clones+1+extra)):\n",
    "            print(j, i)\n",
    "            if nb_clones >= 2:\n",
    "                to_split = np.argmax(-(est.qun * np.log(est.qun)).sum(axis=0))\n",
    "                mask = np.ones(nb_clones-1, dtype=bool)\n",
    "                mask[to_split] = 0\n",
    "                new_phi = np.zeros(nb_clones)\n",
    "                new_phi[:nb_clones - 2] = est.phi[mask]\n",
    "                new_phi[-2] = np.random.ranf() * 0.8 + 0.1\n",
    "                new_phi[-1] = np.random.ranf() * 0.8 + 0.1\n",
    "                new_xi = np.zeros(nb_clones)\n",
    "                new_xi[:nb_clones - 2] = est.xi[mask]\n",
    "                new_xi[-1], new_xi[-2] = [est.xi[to_split]] * 2\n",
    "                new_pi = np.zeros((nb_clones, inputMU.shape[0]))\n",
    "                new_pi[:nb_clones - 2, :] = est.pi[mask, :]\n",
    "                new_pi[-1, :] = np.random.dirichlet(alpha=np.ones(inputMU.shape[0]))\n",
    "                new_pi[-2, :] = np.random.dirichlet(alpha=np.ones(inputMU.shape[0]))\n",
    "                est = Estimator(T, B, C_normal, C_tumor_tot,\n",
    "                                C_tumor_minor, D, purity, nb_clones,\n",
    "                                inputMU=inputMU, pi=new_pi, phi=new_phi, xi=new_xi, nu=inputNU)\n",
    "            else:\n",
    "                est = Estimator(T, B, C_normal, C_tumor_tot,\n",
    "                                C_tumor_minor, D, purity, nb_clones,\n",
    "                                inputMU=inputMU, nu=inputNU)\n",
    "            est.fit()\n",
    "            print(nb_clones, est.tau)\n",
    "            bic[i, j] = est.get_bic()\n",
    "            loglikelihood[i, j] = est.get_loglikelihood\n",
    "            aic[i, j] = est.get_aic()\n",
    "            aicc[i, j] = est.get_aicc()\n",
    "            icl_q[i, j] = est.get_icl()\n",
    "            icl_qn[i, j] = est.get_icl(norm=True)\n",
    "    dict_results = {'bic': np.argmax(bic.mean(axis=0)) + 1,\n",
    "                    'aic': np.argmax(aic.mean(axis=0)) + 1,\n",
    "                    'aicc': np.argmax(aicc.mean(axis=0)) + 1,\n",
    "                    'icl_q': np.argmax(icl_q.mean(axis=0)) + 1,\n",
    "                    'icl_qn': np.argmax(icl_qn.mean(axis=0)) + 1}\n",
    "\n",
    "    # compute SH estimate\n",
    "    for mc in range(max_nb_clones-2, max_nb_clones + extra + 1):\n",
    "        slopes = list()\n",
    "        chpt = list()\n",
    "        for end_p in range(0, mc-1):\n",
    "            ransac = linear_model.LinearRegression()\n",
    "            ransac.fit(((np.array(range(end_p+1, mc+1)))*(L+1)).reshape(-1, 1), loglikelihood.mean(axis=0)[end_p:mc])\n",
    "            slopes.append(ransac.coef_)\n",
    "            # print('pen', mc, end_p, loglikelihood[0][:mc] - np.arange(1, len(loglikelihood[0][:mc])+1) * (M+1) * 2 * ransac.estimator_.coef_)\n",
    "            chpt.append(np.argmax(loglikelihood.mean(axis=0)[:mc] - np.arange(1, len(loglikelihood.mean(axis=0)[:mc])+1) * (L+1) * 2 * max(ransac.coef_, 0.0))+1)\n",
    "        chpt = np.array(chpt)\n",
    "        diff = chpt[1:] - chpt[0:-1]\n",
    "        last_point = np.argmax(diff<0)\n",
    "        if (last_point == 0) & (chpt[1] >= chpt[0]):\n",
    "            last_point = mc\n",
    "        counts = np.bincount(chpt[:last_point+1])\n",
    "        # b = counts[::-1]\n",
    "        # final_nb_clones = len(b) - np.argmax(b) - 1\n",
    "        final_nb_clones = np.argmax(counts)\n",
    "        dict_results['sh_{}'.format(mc)] = final_nb_clones\n",
    "\n",
    "    ll = loglikelihood.mean(axis=0)\n",
    "    dict_results['max_curvature'] = np.argmax(\n",
    "        np.abs(ll[2:] + ll[0: -2] - 2 * ll[1: -1])) + 2\n",
    "    return dict_results, ll, bic"
   ]
  },
  {
   "cell_type": "code",
   "execution_count": 6,
   "metadata": {
    "ExecuteTime": {
     "end_time": "2020-05-18T10:33:53.299254Z",
     "start_time": "2020-05-18T10:33:31.197728Z"
    }
   },
   "outputs": [
    {
     "name": "stdout",
     "output_type": "stream",
     "text": [
      "0 0\n",
      "1 0.15104139842308853\n",
      "1 0\n",
      "2 0.044908602630422755\n",
      "2 0\n",
      "3 0.009372606569964114\n",
      "3 0\n",
      "4 0.008034061649308774\n",
      "4 0\n",
      "5 0.0074528442894857706\n",
      "5 0\n",
      "6 0.007455097454504605\n",
      "6 0\n",
      "7 0.007908457116802001\n",
      "7 0\n",
      "8 0.007847047039254916\n",
      "8 0\n",
      "9 0.007246112530144139\n",
      "9 0\n",
      "10 0.007254240845879775\n"
     ]
    },
    {
     "name": "stderr",
     "output_type": "stream",
     "text": [
      "/Users/JudithAbecassis/my_python35/lib/python3.5/site-packages/sklearn/linear_model/base.py:485: RuntimeWarning: internal gelsd driver lwork query error, required iwork dimension not returned. This is likely the result of LAPACK bug 0038, fixed in LAPACK 3.2.2 (released July 21, 2010). Falling back to 'gelss' driver.\n",
      "  linalg.lstsq(X, y)\n"
     ]
    },
    {
     "data": {
      "image/png": "[encoded data removed]",
      "text/plain": [
       "<matplotlib.figure.Figure at 0x11b8e1828>"
      ]
     },
     "metadata": {
      "needs_background": "light"
     },
     "output_type": "display_data"
    }
   ],
   "source": [
    "N = 200\n",
    "J = 3\n",
    "np.random.seed(2)\n",
    "#phi = np.linspace(0.1, 0.99, J)\n",
    "#pi = np.zeros((J, M))\n",
    "#for i, sig in enumerate(np.random.choice(30, J, replace=False)):\n",
    "#    pi[i, sig] = 1\n",
    "#xi = np.ones(J)/J\n",
    "uu = SimLoader(N, J, rho_param=100, cn=False, inputMU=MU)\n",
    "uu._get_unobserved_nodes()\n",
    "uu._get_observed_nodes()\n",
    "dict_results, ll, bic = fit_model_special(uu.T, uu.B, uu.C_normal, uu.C_tumor_tot,\n",
    "                                     uu.C_tumor_minor, uu.D, uu.purity,\n",
    "                                     MU, nb_fits=1, extra=4)\n",
    "titles = ('loglikelihood', 'bic')\n",
    "fig, ax = plt.subplots(nrows=1, ncols=2, figsize=(8, 3))\n",
    "for i, v in enumerate((ll, bic[0])):\n",
    "    ax[i].plot(range(1, 11), v, marker='o')\n",
    "    ax[i].set_title(titles[i], fontsize=20)\n",
    "    ax[i].set_xlabel(\"number of clones\", fontsize=17)\n",
    "plt.subplots_adjust(wspace=0.3)\n",
    "ax[0].set_ylabel(\"200 mutations\", fontsize=20)\n",
    "\n",
    "plt.savefig('{}/criterion200mut.pdf'.format(output_path), bbox_inches='tight')"
   ]
  },
  {
   "cell_type": "code",
   "execution_count": 7,
   "metadata": {
    "ExecuteTime": {
     "end_time": "2020-05-18T10:39:03.698709Z",
     "start_time": "2020-05-18T10:33:53.302229Z"
    }
   },
   "outputs": [
    {
     "name": "stdout",
     "output_type": "stream",
     "text": [
      "0 0\n",
      "1 0.1506925652991451\n",
      "1 0\n",
      "2 0.050023326889151176\n",
      "2 0\n",
      "3 0.009950685311592024\n",
      "3 0\n",
      "4 0.009856544306647053\n",
      "4 0\n",
      "5 0.009099162804855551\n",
      "5 0\n",
      "6 0.008810150080905677\n",
      "6 0\n",
      "7 0.008865424665644361\n",
      "7 0\n",
      "8 0.00879598309335079\n",
      "8 0\n",
      "9 0.008594814260544347\n",
      "9 0\n",
      "10 0.00866702725156461\n"
     ]
    },
    {
     "data": {
      "image/png": "[encoded data removed]",
      "text/plain": [
       "<matplotlib.figure.Figure at 0x11b8e16d8>"
      ]
     },
     "metadata": {
      "needs_background": "light"
     },
     "output_type": "display_data"
    }
   ],
   "source": [
    "N = 2000\n",
    "J = 3\n",
    "np.random.seed(2)\n",
    "#phi = np.linspace(0.1, 0.99, J)\n",
    "#pi = np.zeros((J, M))\n",
    "#for i, sig in enumerate(np.random.choice(30, J, replace=False)):\n",
    "#    pi[i, sig] = 1\n",
    "#xi = np.ones(J)/J\n",
    "uu = SimLoader(N, J, rho_param=100, cn=False, inputMU=MU)\n",
    "uu._get_unobserved_nodes()\n",
    "uu._get_observed_nodes()\n",
    "dict_results, ll, bic = fit_model_special(uu.T, uu.B, uu.C_normal, uu.C_tumor_tot,\n",
    "                                     uu.C_tumor_minor, uu.D, uu.purity,\n",
    "                                     MU, nb_fits=1, extra=4)\n",
    "titles = ('loglikelihood', 'bic')\n",
    "fig, ax = plt.subplots(nrows=1, ncols=2, figsize=(8, 3))\n",
    "for i, v in enumerate((ll, bic[0])):\n",
    "    ax[i].plot(range(1, 11), v, marker='o')\n",
    "    ax[i].set_title(titles[i], fontsize=20)\n",
    "    ax[i].set_xlabel(\"number of clones\", fontsize=17)\n",
    "plt.subplots_adjust(wspace=0.3)\n",
    "ax[0].set_ylabel(\"2000 mutations\", fontsize=20)\n",
    "\n",
    "plt.savefig('{}/criterion2000mut.pdf'.format(output_path), bbox_inches='tight')"
   ]
  },
  {
   "cell_type": "markdown",
   "metadata": {
    "ExecuteTime": {
     "end_time": "2019-08-19T15:44:28.737641Z",
     "start_time": "2019-08-19T15:44:28.370760Z"
    }
   },
   "source": [
    "## Illustration of the distribution of copy number from simulated data"
   ]
  },
  {
   "cell_type": "code",
   "execution_count": 8,
   "metadata": {
    "ExecuteTime": {
     "end_time": "2020-05-18T10:39:09.406935Z",
     "start_time": "2020-05-18T10:39:03.701531Z"
    },
    "scrolled": false
   },
   "outputs": [
    {
     "data": {
      "image/png": "[encoded data removed]",
      "text/plain": [
       "<matplotlib.figure.Figure at 0x1159cf9e8>"
      ]
     },
     "metadata": {
      "needs_background": "light"
     },
     "output_type": "display_data"
    }
   ],
   "source": [
    "sns.set_context('notebook')\n",
    "fig, ax = plt.subplots(nrows=2, ncols=4, figsize=(12, 4))\n",
    "for i, perc_dip in enumerate((None, 0, 0.20, 0.40, 0.60, 0.80, 1)):\n",
    "    N = 2000\n",
    "    J = 3\n",
    "    np.random.seed(2)\n",
    "    uu = SimLoader(N, J, rho_param=100, cn=True, dip_prop=perc_dip)\n",
    "    uu._get_unobserved_nodes()\n",
    "    uu._get_observed_nodes()\n",
    "    true_dip_perc = sum((uu.C_tumor_tot==2)&(uu.C_tumor_minor==1))/N\n",
    "    sns.countplot(pd.Categorical(uu.C_tumor_tot, ordered=True, categories=list(range(1, 10))), ax=ax[i//4, i%4])\n",
    "    if (i//4==0)&(i%4==0):\n",
    "        ax[i//4, i%4].set_title('default behavior\\ndiploid proportion {}'.format(true_dip_perc))\n",
    "    else:\n",
    "        ax[i//4, i%4].set_title('diploid proportion {}'.format(true_dip_perc))\n",
    "    if i%4!=0:\n",
    "        ax[i//4, i%4].set_ylabel('')\n",
    "    else:\n",
    "        ax[i//4, i%4].set_ylabel('mutation\\ncount')\n",
    "    if i//4==1:\n",
    "        ax[i//4, i%4].set_xlabel('total copy number')\n",
    "    plt.subplots_adjust(wspace=0.3, hspace=0.5)\n",
    "    ax[-1, -1].axis('off')\n",
    "    \n",
    "plt.savefig('{}/empirical_copy_number_distribution.pdf'.format(output_path), bbox_inches='tight')\n"
   ]
  },
  {
   "cell_type": "code",
   "execution_count": null,
   "metadata": {
    "ExecuteTime": {
     "end_time": "2019-08-19T16:20:24.864099Z",
     "start_time": "2019-08-19T16:20:24.858060Z"
    }
   },
   "outputs": [],
   "source": []
  },
  {
   "cell_type": "code",
   "execution_count": null,
   "metadata": {},
   "outputs": [],
   "source": []
  }
 ],
 "metadata": {
  "hide_input": false,
  "kernelspec": {
   "display_name": "Python 3",
   "language": "python",
   "name": "python3"
  },
  "language_info": {
   "codemirror_mode": {
    "name": "ipython",
    "version": 3
   },
   "file_extension": ".py",
   "mimetype": "text/x-python",
   "name": "python",
   "nbconvert_exporter": "python",
   "pygments_lexer": "ipython3",
   "version": "3.7.4"
  },
  "latex_envs": {
   "LaTeX_envs_menu_present": true,
   "autoclose": false,
   "autocomplete": true,
   "bibliofile": "biblio.bib",
   "cite_by": "apalike",
   "current_citInitial": 1,
   "eqLabelWithNumbers": true,
   "eqNumInitial": 1,
   "hotkeys": {
    "equation": "Ctrl-E",
    "itemize": "Ctrl-I"
   },
   "labels_anchors": false,
   "latex_user_defs": false,
   "report_style_numbering": false,
   "user_envs_cfg": false
  },
  "toc": {
   "base_numbering": 1,
   "nav_menu": {},
   "number_sections": true,
   "sideBar": true,
   "skip_h1_title": true,
   "title_cell": "Table of Contents",
   "title_sidebar": "Contents",
   "toc_cell": false,
   "toc_position": {},
   "toc_section_display": true,
   "toc_window_display": true
  },
  "varInspector": {
   "cols": {
    "lenName": 16,
    "lenType": 16,
    "lenVar": 40
   },
   "kernels_config": {
    "python": {
     "delete_cmd_postfix": "",
     "delete_cmd_prefix": "del ",
     "library": "var_list.py",
     "varRefreshCmd": "print(var_dic_list())"
    },
    "r": {
     "delete_cmd_postfix": ") ",
     "delete_cmd_prefix": "rm(",
     "library": "var_list.r",
     "varRefreshCmd": "cat(var_dic_list()) "
    }
   },
   "types_to_exclude": [
    "module",
    "function",
    "builtin_function_or_method",
    "instance",
    "_Feature"
   ],
   "window_display": false
  }
 },
 "nbformat": 4,
 "nbformat_minor": 2
}
